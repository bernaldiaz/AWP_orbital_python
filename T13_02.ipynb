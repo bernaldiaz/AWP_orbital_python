{
  "nbformat": 4,
  "nbformat_minor": 0,
  "metadata": {
    "colab": {
      "provenance": [],
      "include_colab_link": true
    },
    "kernelspec": {
      "name": "python3",
      "display_name": "Python 3"
    }
  },
  "cells": [
    {
      "cell_type": "markdown",
      "metadata": {
        "id": "view-in-github",
        "colab_type": "text"
      },
      "source": [
        "<a href=\"https://colab.research.google.com/github/bernaldiaz/AWP_orbital_python/blob/main/T13_02.ipynb\" target=\"_parent\"><img src=\"https://colab.research.google.com/assets/colab-badge.svg\" alt=\"Open In Colab\"/></a>"
      ]
    },
    {
      "cell_type": "markdown",
      "metadata": {
        "id": "hxLV1GgjYsup"
      },
      "source": [
        "# Ejercicio\n",
        "\n",
        "Vamos a configurar el método `.__str__()` para que nos muestre el número racional de la forma numerador / denominador.\n",
        "\n",
        "EXTRA: Busca cómo usar LaTeX en strings de Python y construye el método `.mathMode()` que muestre el número racional en formato $\\frac{numerador}{denominador}$"
      ]
    },
    {
      "cell_type": "code",
      "metadata": {
        "id": "D3zuvVe1VzR2"
      },
      "source": [
        "class RationalNumber():\n",
        "\n",
        "  def __init__(self, n, d = 1):\n",
        "    if type(n) is int and type(d) is int:\n",
        "      self.numerator = n\n",
        "      self.denominator = d\n",
        "    else:\n",
        "      print(\"El numerador y el denominador deben ser números enteros\")\n",
        "\n",
        "    \n",
        "  def __str__(self):\n",
        "    return \"{} / {}\".format(self.numerator, self.denominator)\n",
        "\n",
        "  \n",
        "  def mathFormat(self):\n",
        "    from IPython.display import display, Latex\n",
        "    display(Latex(f\"${self.numerator}\\\\over{self.denominator}$\"))"
      ],
      "execution_count": null,
      "outputs": []
    },
    {
      "cell_type": "code",
      "metadata": {
        "colab": {
          "base_uri": "https://localhost:8080/"
        },
        "id": "tgp8bvE5bOH5",
        "outputId": "ec03a0dc-7988-46f0-e256-288f790b8760"
      },
      "source": [
        "q = RationalNumber(2, 4)\n",
        "print(q)"
      ],
      "execution_count": null,
      "outputs": [
        {
          "output_type": "stream",
          "text": [
            "2 / 4\n"
          ],
          "name": "stdout"
        }
      ]
    },
    {
      "cell_type": "code",
      "metadata": {
        "colab": {
          "base_uri": "https://localhost:8080/",
          "height": 38
        },
        "id": "gn3ATzLIbiUC",
        "outputId": "3ab956c8-c35e-451b-f65a-dc112e2ed241"
      },
      "source": [
        "q.mathFormat()"
      ],
      "execution_count": null,
      "outputs": [
        {
          "output_type": "display_data",
          "data": {
            "text/latex": "$2\\over4$",
            "text/plain": [
              "<IPython.core.display.Latex object>"
            ]
          },
          "metadata": {
            "tags": []
          }
        }
      ]
    }
  ]
}